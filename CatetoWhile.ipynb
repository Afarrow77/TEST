{
  "nbformat": 4,
  "nbformat_minor": 0,
  "metadata": {
    "colab": {
      "provenance": [],
      "authorship_tag": "ABX9TyM+BZb3oB9kIRW74Fe07/fx",
      "include_colab_link": true
    },
    "kernelspec": {
      "name": "python3",
      "display_name": "Python 3"
    },
    "language_info": {
      "name": "python"
    }
  },
  "cells": [
    {
      "cell_type": "markdown",
      "metadata": {
        "id": "view-in-github",
        "colab_type": "text"
      },
      "source": [
        "<a href=\"https://colab.research.google.com/github/Afarrow77/TEST/blob/master/CatetoWhile.ipynb\" target=\"_parent\"><img src=\"https://colab.research.google.com/assets/colab-badge.svg\" alt=\"Open In Colab\"/></a>"
      ]
    },
    {
      "cell_type": "code",
      "execution_count": null,
      "metadata": {
        "colab": {
          "base_uri": "https://localhost:8080/"
        },
        "id": "D_z7Y2brQGmE",
        "outputId": "99325b8f-ba38-4be5-b676-33cec8b703c8"
      },
      "outputs": [
        {
          "output_type": "stream",
          "name": "stdout",
          "text": [
            "Primer cateto0\n",
            "Segundo cateto-8\n",
            "Error\n",
            "Primer cateto-7\n",
            "Segundo cateto5\n",
            "Error\n",
            "Primer cateto8\n",
            "Segundo cateto-8\n",
            "Error\n",
            "Primer cateto2\n",
            "Segundo cateto8\n",
            "El resultado de la hipotenusa es.. 8.25\n"
          ]
        }
      ],
      "source": [
        "import math  #se importa MATH al ejecutar una raiz cuadrada\n",
        "\n",
        "cateto1 = int(input(\"Primer cateto\")) #definiendo la variable del primer cateto\n",
        "cateto2 = int(input(\"Segundo cateto\")) #definiendo la variable del segundo cateto\n",
        "\n",
        "while (cateto1 <= 0 or cateto2 <=0):  #Uilizamos el while para saber si un valor está bien o no, si utilizamos el AND daría una respuesta y otra )\n",
        "  print(\"Error\")  #mostramos que si es negativo o 0 de error y el bucle sería infinito\n",
        "\n",
        "  cateto1 = int(input(\"Primer cateto\"))  #volvemos a ejecutar la variable pero dará un nuevo valor\n",
        "  cateto2 = int(input(\"Segundo cateto\"))\n",
        "\n",
        "hipotenusa = math.sqrt(cateto1 **2 + cateto2 **2)  #calculamos la hipotenusa utilizando la formula que contiene raiz cuadrada math.sqrt\n",
        "print(\"El resultado de la hipotenusa es..\", round(hipotenusa , 2))  #muestras el resultado y lo redondeas "
      ]
    }
  ]
}