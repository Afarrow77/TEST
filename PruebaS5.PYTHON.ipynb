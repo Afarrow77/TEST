{
  "nbformat": 4,
  "nbformat_minor": 0,
  "metadata": {
    "colab": {
      "provenance": [],
      "authorship_tag": "ABX9TyNcJuOtHyyTnvy+p/580NuU",
      "include_colab_link": true
    },
    "kernelspec": {
      "name": "python3",
      "display_name": "Python 3"
    },
    "language_info": {
      "name": "python"
    }
  },
  "cells": [
    {
      "cell_type": "markdown",
      "metadata": {
        "id": "view-in-github",
        "colab_type": "text"
      },
      "source": [
        "<a href=\"https://colab.research.google.com/github/Afarrow77/TEST/blob/master/PruebaS5.PYTHON.ipynb\" target=\"_parent\"><img src=\"https://colab.research.google.com/assets/colab-badge.svg\" alt=\"Open In Colab\"/></a>"
      ]
    },
    {
      "cell_type": "code",
      "execution_count": null,
      "metadata": {
        "colab": {
          "base_uri": "https://localhost:8080/",
          "height": 53
        },
        "id": "yuv4vRXHEX36",
        "outputId": "eef56253-e8ae-4859-d548-c844376e2925"
      },
      "outputs": [
        {
          "output_type": "stream",
          "name": "stdout",
          "text": [
            "2\n"
          ]
        },
        {
          "output_type": "execute_result",
          "data": {
            "text/plain": [
              "'Hola'"
            ],
            "application/vnd.google.colaboratory.intrinsic+json": {
              "type": "string"
            }
          },
          "metadata": {},
          "execution_count": 7
        }
      ],
      "source": [
        "#Variable\n",
        "# Crear variable \n",
        "#nobre_variable = valor\n",
        "numero = 2\n",
        "decimal = 2.4\n",
        "texto = \"Hola\"\n",
        "verdadero = True\n",
        "falso = False\n",
        "#Usar varibles\n",
        "print(numero)\n",
        "texto"
      ]
    },
    {
      "cell_type": "code",
      "source": [
        "#Estructuras de datos\n",
        "#Listas\n",
        "lista = [\"Hola\",\"soy\",\"Luis\"] #Crear una variable o valor \n",
        "lista.append(2)\n",
        "lista.append(3)\n",
        "lista.insert(0,True)\n",
        "lista\n",
        "#tuplas\n",
        "tupla = (\"Hola\", \"soy\", \"Luis\") \n",
        "\n",
        "#Conjuntos-SET\n",
        "conjunto = {1,2,3,4,5}\n",
        "conjunto\n",
        "\n",
        "#Diccionario"
      ],
      "metadata": {
        "colab": {
          "base_uri": "https://localhost:8080/"
        },
        "id": "6SAwdfhkN8c9",
        "outputId": "e543c4a1-116c-4329-837c-708fc210b4fc"
      },
      "execution_count": null,
      "outputs": [
        {
          "output_type": "execute_result",
          "data": {
            "text/plain": [
              "{1, 2, 3, 4, 5}"
            ]
          },
          "metadata": {},
          "execution_count": 18
        }
      ]
    },
    {
      "cell_type": "code",
      "source": [
        "lista = [1,2,3,4,5,6,6,6,6,6]\n",
        "list(set(lista))"
      ],
      "metadata": {
        "colab": {
          "base_uri": "https://localhost:8080/"
        },
        "id": "SArgsbfTOZgi",
        "outputId": "b1bf7c7f-5169-46d4-e3ff-a90b5c8aa336"
      },
      "execution_count": null,
      "outputs": [
        {
          "output_type": "execute_result",
          "data": {
            "text/plain": [
              "[1, 2, 3, 4, 5, 6]"
            ]
          },
          "metadata": {},
          "execution_count": 22
        }
      ]
    },
    {
      "cell_type": "code",
      "source": [
        "#Operadores\n",
        "#Operadores aritmeticcos\n",
        "# \"Hola\" + 5\n",
        "9 - 5 \n",
        "6 * 2 \n",
        "10 / 4 \n",
        "10 // 4 #trunca la parte decimal\n",
        "\n",
        "#operadores de comparación\n",
        "#<,>,>=,<=,==,!=(not equal),IN\n",
        "6>5\n",
        "num1 = 6 \n",
        "num2 = 5\n",
        "num1 > num2\n",
        "num1 < num2\n",
        "num1 >= num2\n",
        "num1 <= num2\n",
        "2 == \"2\"\n",
        "2 != \"2\"\n",
        "#Lista con in\n",
        "num1 = 6 \n",
        "lista = [5,6,7]\n",
        "num2 = 5\n",
        "num1 in lista\n",
        "\n",
        "#operadores lógicos\n",
        "#and,or,not"
      ],
      "metadata": {
        "colab": {
          "base_uri": "https://localhost:8080/"
        },
        "id": "Buzme5TjQhJc",
        "outputId": "ffb94b25-90e9-48a0-9166-c5410e573840"
      },
      "execution_count": null,
      "outputs": [
        {
          "output_type": "execute_result",
          "data": {
            "text/plain": [
              "True"
            ]
          },
          "metadata": {},
          "execution_count": 33
        }
      ]
    },
    {
      "cell_type": "code",
      "source": [
        "#Condiciones \n",
        "maxima_velocidad = 120\n",
        "nuestra_velocidad = 110\n",
        "\n",
        "if nuestra_velocidad < maxima_velocidad:  #linea que contenga una palabra en rosa :\n",
        "  print(\"Todo ok\")\n",
        "elif nuestra_velocidad == maxima_velocidad: #para dos o más condicionales se usa el elif\n",
        "  print(\"Deja de acelerar\")\n",
        "else:  #linea que contenga una palabra en rosa :\n",
        "  print(\"Multita\")"
      ],
      "metadata": {
        "colab": {
          "base_uri": "https://localhost:8080/"
        },
        "id": "b2_IKkH8sxZf",
        "outputId": "11f23258-f1ea-488e-d218-83357fc021f2"
      },
      "execution_count": null,
      "outputs": [
        {
          "output_type": "stream",
          "name": "stdout",
          "text": [
            "Deja de acelerar\n"
          ]
        }
      ]
    },
    {
      "cell_type": "code",
      "source": [
        "#concatenar ( +=)\n",
        "hello = \"Hola\"\n",
        "world = \"mundo\"\n",
        "print(hello, world)"
      ],
      "metadata": {
        "colab": {
          "base_uri": "https://localhost:8080/"
        },
        "id": "PDRLHioDRHRh",
        "outputId": "75e9526e-4f66-44b0-fe8e-93aa574dbf53"
      },
      "execution_count": null,
      "outputs": [
        {
          "output_type": "stream",
          "name": "stdout",
          "text": [
            "Hola mundo\n"
          ]
        }
      ]
    },
    {
      "cell_type": "code",
      "source": [
        "#Instanciar por valor\n",
        "print(\"Hola\")\n",
        "\n",
        "#instanciar por referencia\n",
        "texto = \"Hola\"\n",
        "print(texto)"
      ],
      "metadata": {
        "colab": {
          "base_uri": "https://localhost:8080/"
        },
        "id": "nnDEbJK1qYaf",
        "outputId": "a1a18601-e554-4c09-d90d-b969908a8ead"
      },
      "execution_count": null,
      "outputs": [
        {
          "output_type": "stream",
          "name": "stdout",
          "text": [
            "Hola\n",
            "Hola\n"
          ]
        }
      ]
    },
    {
      "cell_type": "code",
      "source": [
        "#undefined = variable que no existe \n",
        "#None = existe pero no tiene valor ni tipo \n"
      ],
      "metadata": {
        "id": "cOL0wrFbrPqa"
      },
      "execution_count": null,
      "outputs": []
    },
    {
      "cell_type": "code",
      "source": [
        "if can_fly == True:\n",
        "  if is_human == true:\n",
        "    if has_mask == True:\n",
        "      print(\"Iron man\")\n",
        "      if has_mask == "
      ],
      "metadata": {
        "id": "-Xpz2NiCwKLi"
      },
      "execution_count": null,
      "outputs": []
    },
    {
      "cell_type": "code",
      "source": [
        "lista = [1,2,3,4]\n",
        "\n",
        "diccionario = {0:1,1:2,2:3,3:4, \"Hola\":5} #tienes dos valores, a la izquierda la clave, a la derecha valor; valores indexados\n",
        "\n",
        "diccionario[\"Hola\"] = 6\n",
        "diccionario\n",
        "len(diccionario)"
      ],
      "metadata": {
        "colab": {
          "base_uri": "https://localhost:8080/"
        },
        "id": "51qnJNjFm14P",
        "outputId": "b3349dbb-4920-45a1-8bf3-b74fdf2c2b5e"
      },
      "execution_count": 3,
      "outputs": [
        {
          "output_type": "execute_result",
          "data": {
            "text/plain": [
              "{0: 1, 1: 2, 2: 3, 3: 4, 'Hola': 6}"
            ]
          },
          "metadata": {},
          "execution_count": 3
        }
      ]
    },
    {
      "cell_type": "code",
      "source": [
        "\n"
      ],
      "metadata": {
        "id": "lKVDY65qm1Se"
      },
      "execution_count": null,
      "outputs": []
    }
  ]
}